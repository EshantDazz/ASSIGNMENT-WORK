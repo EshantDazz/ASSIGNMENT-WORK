{
 "cells": [
  {
   "cell_type": "markdown",
   "id": "9ff1068b",
   "metadata": {},
   "source": [
    "# <div class='alert alert-danger'> Programming Assignment_1 </div>"
   ]
  },
  {
   "cell_type": "markdown",
   "id": "ff5a8960",
   "metadata": {},
   "source": [
    "## <font color='clue'> Eshant Das </font>"
   ]
  },
  {
   "cell_type": "code",
   "execution_count": null,
   "id": "9d91175d",
   "metadata": {},
   "outputs": [],
   "source": []
  },
  {
   "cell_type": "markdown",
   "id": "60289812",
   "metadata": {},
   "source": [
    "### Q1. Write a Python program to print \"Hello Python\"?"
   ]
  },
  {
   "cell_type": "markdown",
   "id": "6c7a6f7e",
   "metadata": {},
   "source": [
    "### Answer:"
   ]
  },
  {
   "cell_type": "code",
   "execution_count": 1,
   "id": "5add2b4c",
   "metadata": {},
   "outputs": [
    {
     "name": "stdout",
     "output_type": "stream",
     "text": [
      "Hello Python\n"
     ]
    }
   ],
   "source": [
    "print(\"Hello Python\")"
   ]
  },
  {
   "cell_type": "code",
   "execution_count": null,
   "id": "c7a75a12",
   "metadata": {},
   "outputs": [],
   "source": []
  },
  {
   "cell_type": "code",
   "execution_count": null,
   "id": "8dbf8a5e",
   "metadata": {},
   "outputs": [],
   "source": []
  },
  {
   "cell_type": "markdown",
   "id": "445224e6",
   "metadata": {},
   "source": [
    "### Q2. Write a Python program to do arithmetical operations addition and division.?"
   ]
  },
  {
   "cell_type": "markdown",
   "id": "e3fe1e34",
   "metadata": {},
   "source": [
    "### Answer:"
   ]
  },
  {
   "cell_type": "code",
   "execution_count": 5,
   "id": "f6ba031b",
   "metadata": {},
   "outputs": [
    {
     "name": "stdout",
     "output_type": "stream",
     "text": [
      "When we add 1 and 2 using the arithmetic operation we get  3\n",
      "When we devide 5 by 3 we get  1.6666666666666667\n",
      "When we divide 5 by 3 our integer division answer comes out to be  1\n"
     ]
    }
   ],
   "source": [
    "#Addtion\n",
    "a=1+2\n",
    "print(\"When we add 1 and 2 using the arithmetic operation we get \",a)\n",
    "\n",
    "#Division\n",
    "b=5/3\n",
    "print(\"When we devide 5 by 3 we get \",b)\n",
    "\n",
    "#Integer division\n",
    "c=5//3\n",
    "print(\"When we divide 5 by 3 our integer division answer comes out to be \",c)"
   ]
  },
  {
   "cell_type": "code",
   "execution_count": null,
   "id": "001483c2",
   "metadata": {},
   "outputs": [],
   "source": []
  },
  {
   "cell_type": "code",
   "execution_count": null,
   "id": "2b36100e",
   "metadata": {},
   "outputs": [],
   "source": []
  },
  {
   "cell_type": "markdown",
   "id": "7b69b67c",
   "metadata": {},
   "source": [
    "### Q3. Write a Python program to find the area of a triangle?"
   ]
  },
  {
   "cell_type": "markdown",
   "id": "4f59d55b",
   "metadata": {},
   "source": [
    "### Answer:"
   ]
  },
  {
   "cell_type": "code",
   "execution_count": 6,
   "id": "4c674331",
   "metadata": {},
   "outputs": [
    {
     "name": "stdout",
     "output_type": "stream",
     "text": [
      "Enter the base of the traingle  20\n",
      "Enter the height of the triangle  40\n",
      "The area of the triangle is  400.0\n"
     ]
    }
   ],
   "source": [
    "base=int(input(\"Enter the base of the traingle  \"))\n",
    "height=int(input(\"Enter the height of the triangle  \"))\n",
    "area=(1/2)*base*height\n",
    "\n",
    "print(\"The area of the triangle is \",area)"
   ]
  },
  {
   "cell_type": "code",
   "execution_count": null,
   "id": "ef4f0b08",
   "metadata": {},
   "outputs": [],
   "source": []
  },
  {
   "cell_type": "code",
   "execution_count": null,
   "id": "cced8e73",
   "metadata": {},
   "outputs": [],
   "source": []
  },
  {
   "cell_type": "markdown",
   "id": "5ac2458e",
   "metadata": {},
   "source": [
    "### Q4. Write a Python program to swap two variables?"
   ]
  },
  {
   "cell_type": "markdown",
   "id": "7170530c",
   "metadata": {},
   "source": [
    "### Answer:"
   ]
  },
  {
   "cell_type": "code",
   "execution_count": 7,
   "id": "5b84b7af",
   "metadata": {},
   "outputs": [
    {
     "name": "stdout",
     "output_type": "stream",
     "text": [
      "Enter the value of the first variable20\n",
      "Enter the value of the second variable60\n",
      " a=20 and b=60\n",
      "After the swapping\n",
      " a=60 and b=20\n"
     ]
    }
   ],
   "source": [
    "a=input(\"Enter the value of the first variable\")\n",
    "b=input(\"Enter the value of the second variable\")\n",
    "print(f\" a={a} and b={b}\")\n",
    "print(\"After the swapping\")\n",
    "a,b=b,a\n",
    "print(f\" a={a} and b={b}\")"
   ]
  },
  {
   "cell_type": "code",
   "execution_count": null,
   "id": "7b810fcd",
   "metadata": {},
   "outputs": [],
   "source": []
  },
  {
   "cell_type": "code",
   "execution_count": null,
   "id": "53feeaec",
   "metadata": {},
   "outputs": [],
   "source": []
  },
  {
   "cell_type": "markdown",
   "id": "a6fe04a0",
   "metadata": {},
   "source": [
    "### Q5. Write a Python program to generate a random number?"
   ]
  },
  {
   "cell_type": "markdown",
   "id": "91ae4fad",
   "metadata": {},
   "source": [
    "### Answer:"
   ]
  },
  {
   "cell_type": "code",
   "execution_count": 8,
   "id": "88839bb5",
   "metadata": {},
   "outputs": [
    {
     "name": "stdout",
     "output_type": "stream",
     "text": [
      "0.8787263393311183\n"
     ]
    }
   ],
   "source": [
    "import random\n",
    "print(random.random())"
   ]
  },
  {
   "cell_type": "markdown",
   "id": "45fc2bad",
   "metadata": {},
   "source": [
    "The random.random will produce any random number between 0 and 1"
   ]
  },
  {
   "cell_type": "markdown",
   "id": "a9b9b738",
   "metadata": {},
   "source": [
    "**Now if we want to produce an integer random number based on our own specific range**"
   ]
  },
  {
   "cell_type": "code",
   "execution_count": 14,
   "id": "beded821",
   "metadata": {},
   "outputs": [
    {
     "name": "stdout",
     "output_type": "stream",
     "text": [
      "7\n"
     ]
    }
   ],
   "source": [
    "print(random.randint(2,20))"
   ]
  },
  {
   "cell_type": "markdown",
   "id": "70251f76",
   "metadata": {},
   "source": [
    "So here we have printed an intger from starting range 2 and ending range 19"
   ]
  },
  {
   "cell_type": "code",
   "execution_count": null,
   "id": "64e4479e",
   "metadata": {},
   "outputs": [],
   "source": []
  },
  {
   "cell_type": "raw",
   "id": "dd568510",
   "metadata": {},
   "source": [
    "                                             #Happy Learning"
   ]
  }
 ],
 "metadata": {
  "kernelspec": {
   "display_name": "Python 3 (ipykernel)",
   "language": "python",
   "name": "python3"
  },
  "language_info": {
   "codemirror_mode": {
    "name": "ipython",
    "version": 3
   },
   "file_extension": ".py",
   "mimetype": "text/x-python",
   "name": "python",
   "nbconvert_exporter": "python",
   "pygments_lexer": "ipython3",
   "version": "3.9.12"
  }
 },
 "nbformat": 4,
 "nbformat_minor": 5
}
