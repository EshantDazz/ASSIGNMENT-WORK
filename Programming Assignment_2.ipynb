{
 "cells": [
  {
   "cell_type": "markdown",
   "id": "34adb46f",
   "metadata": {},
   "source": [
    "# <div class='alert alert-danger'> Programming Assignment_2 </div>"
   ]
  },
  {
   "cell_type": "markdown",
   "id": "82450206",
   "metadata": {},
   "source": [
    "## <font color='clue'> Eshant Das </font>"
   ]
  },
  {
   "cell_type": "markdown",
   "id": "13e8220d",
   "metadata": {},
   "source": [
    "### Q1. Write a Python program to convert kilometers to miles?"
   ]
  },
  {
   "cell_type": "markdown",
   "id": "945d8312",
   "metadata": {},
   "source": [
    "### Answer:"
   ]
  },
  {
   "cell_type": "code",
   "execution_count": 5,
   "id": "71e45067",
   "metadata": {},
   "outputs": [
    {
     "name": "stdout",
     "output_type": "stream",
     "text": [
      "Enter the value for kilometers20\n",
      "The value in miles = 12.42\n"
     ]
    }
   ],
   "source": [
    "kilo=float(input(\"Enter the value for kilometers\"))\n",
    "c=0.621\n",
    "miles=kilo*c\n",
    "print(\"The value in miles =\",round(miles,3))"
   ]
  },
  {
   "cell_type": "code",
   "execution_count": null,
   "id": "d0c9a3a9",
   "metadata": {},
   "outputs": [],
   "source": []
  },
  {
   "cell_type": "code",
   "execution_count": null,
   "id": "1c9f37dd",
   "metadata": {},
   "outputs": [],
   "source": []
  },
  {
   "cell_type": "markdown",
   "id": "600b725b",
   "metadata": {},
   "source": [
    "### Q2. Write a Python program to convert Celsius to Fahrenheit?"
   ]
  },
  {
   "cell_type": "markdown",
   "id": "51cf3636",
   "metadata": {},
   "source": [
    "### Answer:"
   ]
  },
  {
   "cell_type": "code",
   "execution_count": 10,
   "id": "f3476e3d",
   "metadata": {},
   "outputs": [
    {
     "name": "stdout",
     "output_type": "stream",
     "text": [
      "Enter the value for celsius324\n",
      "Celsius value =  324.0\n",
      "Converted Fahrenheit value =  615.2\n"
     ]
    }
   ],
   "source": [
    "c=float(input(\"Enter the value for celsius\"))\n",
    "f=(c*1.8)+32\n",
    "print(\"Celsius value = \",c)\n",
    "print(\"Converted Fahrenheit value = \",f)"
   ]
  },
  {
   "cell_type": "code",
   "execution_count": null,
   "id": "b1b9a02a",
   "metadata": {},
   "outputs": [],
   "source": []
  },
  {
   "cell_type": "code",
   "execution_count": null,
   "id": "ea9b4723",
   "metadata": {},
   "outputs": [],
   "source": []
  },
  {
   "cell_type": "markdown",
   "id": "8c761d36",
   "metadata": {},
   "source": [
    "### Q3. Write a Python program to display calendar?"
   ]
  },
  {
   "cell_type": "markdown",
   "id": "4bc59e78",
   "metadata": {},
   "source": [
    "### Answer:"
   ]
  },
  {
   "cell_type": "code",
   "execution_count": 14,
   "id": "74685df1",
   "metadata": {},
   "outputs": [
    {
     "name": "stdout",
     "output_type": "stream",
     "text": [
      "    August 2022\n",
      "Mo Tu We Th Fr Sa Su\n",
      " 1  2  3  4  5  6  7\n",
      " 8  9 10 11 12 13 14\n",
      "15 16 17 18 19 20 21\n",
      "22 23 24 25 26 27 28\n",
      "29 30 31\n",
      "\n"
     ]
    }
   ],
   "source": [
    "#I will be displaying the calender for the year 2022 and month august\n",
    "m=8\n",
    "y=2022\n",
    "import calendar\n",
    "print(calendar.month(y,m))"
   ]
  },
  {
   "cell_type": "code",
   "execution_count": null,
   "id": "a14e7fe8",
   "metadata": {},
   "outputs": [],
   "source": []
  },
  {
   "cell_type": "code",
   "execution_count": null,
   "id": "cf66b786",
   "metadata": {},
   "outputs": [],
   "source": []
  },
  {
   "cell_type": "markdown",
   "id": "b88ff529",
   "metadata": {},
   "source": [
    "### Q4. Write a Python program to solve quadratic equation?"
   ]
  },
  {
   "cell_type": "markdown",
   "id": "0e92a5cd",
   "metadata": {},
   "source": [
    "### Answer:"
   ]
  },
  {
   "cell_type": "code",
   "execution_count": 16,
   "id": "7576037b",
   "metadata": {},
   "outputs": [
    {
     "name": "stdout",
     "output_type": "stream",
     "text": [
      "Enter the value for a 2\n",
      "Enter the value for b 5\n",
      "Enter the value for c 12\n",
      "The roots of the equation are (-1.25-2.1065374432940898j) and (-1.25+2.1065374432940898j)\n"
     ]
    }
   ],
   "source": [
    "import cmath\n",
    "a=int(input(\"Enter the value for a \"))\n",
    "b=int(input(\"Enter the value for b \"))\n",
    "c=int(input(\"Enter the value for c \"))\n",
    "d = (b**2) - (4 * a*c)\n",
    "  \n",
    "\n",
    "r1 = (-b-cmath.sqrt(d))/(2 * a)\n",
    "r2 = (-b + cmath.sqrt(d))/(2 * a)\n",
    "\n",
    "print(f\"The roots of the equation are {r1} and {r2}\")\n",
    "  "
   ]
  },
  {
   "cell_type": "code",
   "execution_count": null,
   "id": "beff90c4",
   "metadata": {},
   "outputs": [],
   "source": []
  },
  {
   "cell_type": "code",
   "execution_count": null,
   "id": "a4d74586",
   "metadata": {},
   "outputs": [],
   "source": []
  },
  {
   "cell_type": "markdown",
   "id": "2e96cfc3",
   "metadata": {},
   "source": [
    "### Q5. Write a Python program to swap two variables without temp variable?"
   ]
  },
  {
   "cell_type": "markdown",
   "id": "62edeb16",
   "metadata": {},
   "source": [
    "### Answer:"
   ]
  },
  {
   "cell_type": "code",
   "execution_count": 19,
   "id": "685da23f",
   "metadata": {},
   "outputs": [
    {
     "name": "stdout",
     "output_type": "stream",
     "text": [
      "Enter the first variable20\n",
      "Enter the second variable50\n",
      "\n",
      "Before swapping\n",
      "x=20 and y=50\n",
      "After swapping\n",
      "x=50 and y=20\n"
     ]
    }
   ],
   "source": [
    "#1st way\n",
    "x=int(input(\"Enter the first variable\"))\n",
    "y=int(input(\"Enter the second variable\"))\n",
    "print()\n",
    "print(\"Before swapping\")\n",
    "print(f\"x={x} and y={y}\")\n",
    "x = x + y \n",
    "y = x - y \n",
    "x = x - y\n",
    "print(\"After swapping\")\n",
    "print(f\"x={x} and y={y}\")\n"
   ]
  },
  {
   "cell_type": "code",
   "execution_count": 20,
   "id": "5195cc52",
   "metadata": {},
   "outputs": [
    {
     "name": "stdout",
     "output_type": "stream",
     "text": [
      "Enter the first variable40\n",
      "Enter the second variable50\n",
      "Before swapping\n",
      "x=40 and y=50\n",
      "After swapping\n",
      "x=50 and y=40\n"
     ]
    }
   ],
   "source": [
    "#2nd way\n",
    "x=input(\"Enter the first variable\")\n",
    "y=input(\"Enter the second variable\")\n",
    "print(\"Before swapping\")\n",
    "print(f\"x={x} and y={y}\")\n",
    "x,y=y,x\n",
    "print(\"After swapping\")\n",
    "print(f\"x={x} and y={y}\")"
   ]
  },
  {
   "cell_type": "code",
   "execution_count": null,
   "id": "7a18a543",
   "metadata": {},
   "outputs": [],
   "source": []
  }
 ],
 "metadata": {
  "kernelspec": {
   "display_name": "Python 3 (ipykernel)",
   "language": "python",
   "name": "python3"
  },
  "language_info": {
   "codemirror_mode": {
    "name": "ipython",
    "version": 3
   },
   "file_extension": ".py",
   "mimetype": "text/x-python",
   "name": "python",
   "nbconvert_exporter": "python",
   "pygments_lexer": "ipython3",
   "version": "3.9.12"
  }
 },
 "nbformat": 4,
 "nbformat_minor": 5
}
