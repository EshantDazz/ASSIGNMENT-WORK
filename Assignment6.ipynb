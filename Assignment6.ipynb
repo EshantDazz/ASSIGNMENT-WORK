{
 "cells": [
  {
   "cell_type": "markdown",
   "id": "c19d70af",
   "metadata": {},
   "source": [
    "# <div class='alert alert-success'> Assignment 6</div>"
   ]
  },
  {
   "cell_type": "markdown",
   "id": "dfd0d0d2",
   "metadata": {},
   "source": [
    "## <font color='green'> Eshant Das </font>"
   ]
  },
  {
   "cell_type": "code",
   "execution_count": null,
   "id": "df16fb3e",
   "metadata": {},
   "outputs": [],
   "source": []
  },
  {
   "cell_type": "markdown",
   "id": "0468615f",
   "metadata": {},
   "source": [
    "### Q1. What are escape characters, and how do you use them?"
   ]
  },
  {
   "cell_type": "markdown",
   "id": "2d0818be",
   "metadata": {},
   "source": [
    "### Answer:"
   ]
  },
  {
   "cell_type": "markdown",
   "id": "7fb8855a",
   "metadata": {},
   "source": [
    "Sometimes we are trying to insert some characters which are not legal in a string so for that we can use escape characters for the program not give any error at the time of execution even after inserting those characters.Escape characters represent characters in string values that would otherwise be difficult or impossible to type into code. The escape character allows yus to use double quotes when you normally would not be allowed.<br>\n",
    "Some of the escape characters in Python are:\n",
    "- Single Quote(\\')\n",
    "- Backslash(\\\\)\n",
    "- New Line(\\n)\n",
    "- Tab(\\t)\n",
    "<br><br>\n",
    "To use them we can check the following code below"
   ]
  },
  {
   "cell_type": "code",
   "execution_count": 5,
   "id": "6297a8d4",
   "metadata": {},
   "outputs": [
    {
     "name": "stdout",
     "output_type": "stream",
     "text": [
      "I am studying from \"I Neuron\" which is helping me alot\n"
     ]
    }
   ],
   "source": [
    "eshant=\"I am studying from \\\"I Neuron\\\" which is helping me alot\"\n",
    "print(eshant)"
   ]
  },
  {
   "cell_type": "code",
   "execution_count": null,
   "id": "8f377e0a",
   "metadata": {},
   "outputs": [],
   "source": []
  },
  {
   "cell_type": "code",
   "execution_count": null,
   "id": "92833e82",
   "metadata": {},
   "outputs": [],
   "source": []
  },
  {
   "cell_type": "markdown",
   "id": "f9e05cd1",
   "metadata": {},
   "source": [
    "### Q2. What do the escape characters n and t stand for?"
   ]
  },
  {
   "cell_type": "markdown",
   "id": "0501c202",
   "metadata": {},
   "source": [
    "### Answer:"
   ]
  },
  {
   "cell_type": "markdown",
   "id": "aa8df467",
   "metadata": {},
   "source": [
    "The escape characters n stands for new line(\\n) and t stands for horizontal tab(\\t)."
   ]
  },
  {
   "cell_type": "code",
   "execution_count": null,
   "id": "a86d534f",
   "metadata": {},
   "outputs": [],
   "source": []
  },
  {
   "cell_type": "code",
   "execution_count": null,
   "id": "e0f3f55b",
   "metadata": {},
   "outputs": [],
   "source": []
  },
  {
   "cell_type": "markdown",
   "id": "895bf4b0",
   "metadata": {},
   "source": [
    "### Q3. What is the way to include backslash characters in a string?"
   ]
  },
  {
   "cell_type": "markdown",
   "id": "9854aa8d",
   "metadata": {},
   "source": [
    "### Answer:"
   ]
  },
  {
   "cell_type": "markdown",
   "id": "28ac8825",
   "metadata": {},
   "source": [
    "The \\ escape character will represent a backslash character."
   ]
  },
  {
   "cell_type": "code",
   "execution_count": null,
   "id": "ea2b33cd",
   "metadata": {},
   "outputs": [],
   "source": []
  },
  {
   "cell_type": "code",
   "execution_count": null,
   "id": "1d4aec22",
   "metadata": {},
   "outputs": [],
   "source": []
  },
  {
   "cell_type": "markdown",
   "id": "0fc26e8c",
   "metadata": {},
   "source": [
    "### Q4. The string \"Howl's Moving Castle\" is a correct value. Why isn't the single quote character in the word Howl's not escaped a problem?"
   ]
  },
  {
   "cell_type": "markdown",
   "id": "cef1a5f5",
   "metadata": {},
   "source": [
    "### Answer:"
   ]
  },
  {
   "cell_type": "markdown",
   "id": "24dc4788",
   "metadata": {},
   "source": [
    "There are 2 ways in which we can store a string single quotes and double quotes. Since we have enclosed this string within double quotes so we can normally add single quotes within the string without the use of any escape character."
   ]
  },
  {
   "cell_type": "code",
   "execution_count": null,
   "id": "262a1ad7",
   "metadata": {},
   "outputs": [],
   "source": []
  },
  {
   "cell_type": "code",
   "execution_count": null,
   "id": "3de90347",
   "metadata": {},
   "outputs": [],
   "source": []
  },
  {
   "cell_type": "markdown",
   "id": "ee7cb436",
   "metadata": {},
   "source": [
    "### Q5. How do you write a string of newlines if you don't want to use the n character?"
   ]
  },
  {
   "cell_type": "markdown",
   "id": "3356530e",
   "metadata": {},
   "source": [
    "### Answer:"
   ]
  },
  {
   "cell_type": "markdown",
   "id": "a0b2cc5d",
   "metadata": {},
   "source": [
    "Multiline Strings will allow us to write newlines if we do not want to use n character. We can do it with the help of triple quotes. <br>\n",
    "Example:"
   ]
  },
  {
   "cell_type": "code",
   "execution_count": 7,
   "id": "9f2edbf9",
   "metadata": {},
   "outputs": [
    {
     "name": "stdout",
     "output_type": "stream",
     "text": [
      "Eshant is having a nice \n",
      "time studying Data Science \n",
      "from INeuron\n"
     ]
    }
   ],
   "source": [
    "eshant='''Eshant is having a nice \n",
    "time studying Data Science \n",
    "from INeuron'''\n",
    "print(eshant)"
   ]
  },
  {
   "cell_type": "code",
   "execution_count": null,
   "id": "0a4441de",
   "metadata": {},
   "outputs": [],
   "source": []
  },
  {
   "cell_type": "code",
   "execution_count": null,
   "id": "265bc6ce",
   "metadata": {},
   "outputs": [],
   "source": []
  },
  {
   "cell_type": "markdown",
   "id": "f8b48bbc",
   "metadata": {},
   "source": [
    "### Q6. What are the values of the given expressions?\n",
    "- 'Hello, world!'[1]"
   ]
  },
  {
   "cell_type": "markdown",
   "id": "750b09a4",
   "metadata": {},
   "source": [
    "### Answer:"
   ]
  },
  {
   "cell_type": "markdown",
   "id": "61ba9755",
   "metadata": {},
   "source": [
    "This would basically print the 2nd character which is e<br>\n",
    "So the answer is 'e'"
   ]
  },
  {
   "cell_type": "code",
   "execution_count": null,
   "id": "9c6b6173",
   "metadata": {},
   "outputs": [],
   "source": []
  },
  {
   "cell_type": "markdown",
   "id": "f2376a52",
   "metadata": {},
   "source": [
    "- 'Hello, world!'[0:5]"
   ]
  },
  {
   "cell_type": "markdown",
   "id": "d25c65cf",
   "metadata": {},
   "source": [
    "### Answer:"
   ]
  },
  {
   "cell_type": "markdown",
   "id": "8d02ce50",
   "metadata": {},
   "source": [
    "The slicing would start from index 0 to index 4<br>\n",
    "So the answer would be 'Hello'"
   ]
  },
  {
   "cell_type": "code",
   "execution_count": null,
   "id": "a66fc991",
   "metadata": {},
   "outputs": [],
   "source": []
  },
  {
   "cell_type": "markdown",
   "id": "07f96c71",
   "metadata": {},
   "source": [
    "- 'Hello, world!'[:5]"
   ]
  },
  {
   "cell_type": "markdown",
   "id": "29664321",
   "metadata": {},
   "source": [
    "### Answer:"
   ]
  },
  {
   "cell_type": "markdown",
   "id": "fd95bffb",
   "metadata": {},
   "source": [
    "This would also print till the 4th index character starting from beginning<br>\n",
    "So the answer would be 'Hello'"
   ]
  },
  {
   "cell_type": "code",
   "execution_count": null,
   "id": "60a28062",
   "metadata": {},
   "outputs": [],
   "source": []
  },
  {
   "cell_type": "markdown",
   "id": "1e0ee22e",
   "metadata": {},
   "source": [
    "- 'Hello, world!'[3:]"
   ]
  },
  {
   "cell_type": "markdown",
   "id": "331cbf97",
   "metadata": {},
   "source": [
    "### Answer:"
   ]
  },
  {
   "cell_type": "markdown",
   "id": "5c6c4aa0",
   "metadata": {},
   "source": [
    "Here we would start from the 3rd and print till the end of the string<br>\n",
    "So the answer would be 'lo world!'"
   ]
  },
  {
   "cell_type": "code",
   "execution_count": null,
   "id": "0fb2a77b",
   "metadata": {},
   "outputs": [],
   "source": []
  },
  {
   "cell_type": "code",
   "execution_count": null,
   "id": "faa8a68b",
   "metadata": {},
   "outputs": [],
   "source": []
  },
  {
   "cell_type": "markdown",
   "id": "e0a5111e",
   "metadata": {},
   "source": [
    "### Q7. What are the values of the following expressions?"
   ]
  },
  {
   "cell_type": "markdown",
   "id": "b7530428",
   "metadata": {},
   "source": [
    "- 'Hello'.upper()\n",
    "- 'Hello'.upper().isupper()\n",
    "- 'Hello'.upper().lower()"
   ]
  },
  {
   "cell_type": "markdown",
   "id": "084eac23",
   "metadata": {},
   "source": [
    "### Answer:"
   ]
  },
  {
   "cell_type": "markdown",
   "id": "37256413",
   "metadata": {},
   "source": [
    "The output of 'Hello'.upper() will be **`HELLO`**<br>\n",
    "The output of 'Hello'.upper().isupper() will be **`True`**<br>\n",
    "The ouytput of 'Hello'.upper().lower() will be **`hello`**"
   ]
  },
  {
   "cell_type": "code",
   "execution_count": null,
   "id": "8a18c80f",
   "metadata": {},
   "outputs": [],
   "source": []
  },
  {
   "cell_type": "code",
   "execution_count": null,
   "id": "ac03aaee",
   "metadata": {},
   "outputs": [],
   "source": []
  },
  {
   "cell_type": "markdown",
   "id": "779ba2cb",
   "metadata": {},
   "source": [
    "### Q8. What are the values of the following expressions?\n",
    "- 'Remember, remember, the fifth of July.'.split()<br>\n",
    "- '-'.join('There can only one.'.split())"
   ]
  },
  {
   "cell_type": "markdown",
   "id": "6d090006",
   "metadata": {},
   "source": [
    "### Answer:"
   ]
  },
  {
   "cell_type": "markdown",
   "id": "bffd15c2",
   "metadata": {},
   "source": [
    "Here for the first question we split the string based on the spaces and make it a list <br> For the second question we make this a new string by joining the individual elements of the list with `-`<br> \n",
    "So the answer for the first and second expression would be respectively<br><br>\n",
    "**`['Remember,', 'remember,', 'the', 'fifth', 'of', 'July.']`**<br><br>\n",
    "**`'There-can-only-one.'`**"
   ]
  },
  {
   "cell_type": "code",
   "execution_count": null,
   "id": "dcd871b6",
   "metadata": {},
   "outputs": [],
   "source": []
  },
  {
   "cell_type": "code",
   "execution_count": null,
   "id": "b6e66fdc",
   "metadata": {},
   "outputs": [],
   "source": []
  },
  {
   "cell_type": "markdown",
   "id": "07792a7b",
   "metadata": {},
   "source": [
    "### Q9. What are the methods for right-justifying, left-justifying, and centering a string?"
   ]
  },
  {
   "cell_type": "markdown",
   "id": "addff33a",
   "metadata": {},
   "source": [
    "### Answer:"
   ]
  },
  {
   "cell_type": "markdown",
   "id": "3001dad5",
   "metadata": {},
   "source": [
    "The rjust(), ljust(), and center() string methods, respectively are the methods for right-justifying, left-justifying, and centering a string"
   ]
  },
  {
   "cell_type": "code",
   "execution_count": null,
   "id": "ed86bc08",
   "metadata": {},
   "outputs": [],
   "source": []
  },
  {
   "cell_type": "code",
   "execution_count": null,
   "id": "9f3bd966",
   "metadata": {},
   "outputs": [],
   "source": []
  },
  {
   "cell_type": "markdown",
   "id": "61a0fce3",
   "metadata": {},
   "source": [
    "### Q10. What is the best way to remove whitespace characters from the start or end?"
   ]
  },
  {
   "cell_type": "markdown",
   "id": "110ae24b",
   "metadata": {},
   "source": [
    "### Answer:"
   ]
  },
  {
   "cell_type": "markdown",
   "id": "a185afef",
   "metadata": {},
   "source": [
    "We have got the **`lstrip()`** function so remove the whitespace from the start and the **`rstrip()`** to remove the characters from the end."
   ]
  },
  {
   "cell_type": "code",
   "execution_count": null,
   "id": "f9614db7",
   "metadata": {},
   "outputs": [],
   "source": []
  }
 ],
 "metadata": {
  "kernelspec": {
   "display_name": "Python 3 (ipykernel)",
   "language": "python",
   "name": "python3"
  },
  "language_info": {
   "codemirror_mode": {
    "name": "ipython",
    "version": 3
   },
   "file_extension": ".py",
   "mimetype": "text/x-python",
   "name": "python",
   "nbconvert_exporter": "python",
   "pygments_lexer": "ipython3",
   "version": "3.9.12"
  }
 },
 "nbformat": 4,
 "nbformat_minor": 5
}
